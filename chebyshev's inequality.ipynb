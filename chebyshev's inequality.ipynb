{
 "cells": [
  {
   "cell_type": "code",
   "execution_count": 1,
   "metadata": {},
   "outputs": [],
   "source": [
    "# chebyshev's inequality"
   ]
  },
  {
   "cell_type": "code",
   "execution_count": 2,
   "metadata": {},
   "outputs": [],
   "source": [
    "import numpy as np\n",
    "import pandas as pd\n",
    "import matplotlib.pyplot as plt\n",
    "import random\n"
   ]
  },
  {
   "cell_type": "code",
   "execution_count": 3,
   "metadata": {},
   "outputs": [
    {
     "data": {
      "text/plain": [
       "array([61, 13, 98, 81, 33, 96, 79, 68, 27, 28, 85, 56, 82, 33, 20, 96, 36,\n",
       "       47, 30, 78])"
      ]
     },
     "execution_count": 3,
     "metadata": {},
     "output_type": "execute_result"
    }
   ],
   "source": [
    "# np.random.seed(1)\n",
    "num=np.random.randint(10,100,20)\n",
    "num"
   ]
  },
  {
   "cell_type": "code",
   "execution_count": 4,
   "metadata": {},
   "outputs": [
    {
     "name": "stdout",
     "output_type": "stream",
     "text": [
      "57.35 27.601222798999324\n"
     ]
    }
   ],
   "source": [
    "m=np.mean(num) #mean of num\n",
    "s=np.std(num) #std. of num \n",
    "print(m,s)"
   ]
  },
  {
   "cell_type": "code",
   "execution_count": 5,
   "metadata": {},
   "outputs": [
    {
     "name": "stdout",
     "output_type": "stream",
     "text": [
      "1.8595190645633561\n",
      "probablity of point lies between [6.025 ,116.37] is atleast = 71.08%\n"
     ]
    }
   ],
   "source": [
    "# according to chebyshev's inequality  m-ks<p(x)<m+ks >1-1/k**2   , here k is constant\n",
    "# probablity of point lies between [6.025,116.37]  ->\n",
    "# m-k*s=6.025 m=61.2 and s=27.58 and\n",
    "# m+k*s=116.374 m=61.2 and s=27.58 then\n",
    "k=(m-6.025)/s\n",
    "print(k)\n",
    "# according to chebyshev's inequality probality\n",
    "p=((k**2-1)/k**2)*100\n",
    "print(f\"probablity of point lies between [6.025 ,116.37] is atleast = {p:.2f}%\")\n",
    "\n"
   ]
  }
 ],
 "metadata": {
  "kernelspec": {
   "display_name": "Python 3",
   "language": "python",
   "name": "python3"
  },
  "language_info": {
   "codemirror_mode": {
    "name": "ipython",
    "version": 3
   },
   "file_extension": ".py",
   "mimetype": "text/x-python",
   "name": "python",
   "nbconvert_exporter": "python",
   "pygments_lexer": "ipython3",
   "version": "3.7.6"
  }
 },
 "nbformat": 4,
 "nbformat_minor": 4
}
